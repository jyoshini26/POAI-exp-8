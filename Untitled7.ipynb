{
  "nbformat": 4,
  "nbformat_minor": 0,
  "metadata": {
    "colab": {
      "provenance": [],
      "authorship_tag": "ABX9TyNX0etnjZLOKrZJHWBNwAqP",
      "include_colab_link": true
    },
    "kernelspec": {
      "name": "python3",
      "display_name": "Python 3"
    },
    "language_info": {
      "name": "python"
    }
  },
  "cells": [
    {
      "cell_type": "markdown",
      "metadata": {
        "id": "view-in-github",
        "colab_type": "text"
      },
      "source": [
        "<a href=\"https://colab.research.google.com/github/jyoshini26/POAI-exp-8/blob/main/Untitled7.ipynb\" target=\"_parent\"><img src=\"https://colab.research.google.com/assets/colab-badge.svg\" alt=\"Open In Colab\"/></a>"
      ]
    },
    {
      "cell_type": "code",
      "execution_count": 1,
      "metadata": {
        "id": "pOI95X0lsUkD"
      },
      "outputs": [],
      "source": [
        "def backward_chaining(goal, depth=0):\n",
        "    indent = \"  \" * depth\n",
        "    print(f\"{indent}Trying to prove: {goal}\")\n",
        "\n",
        "    if goal in facts:\n",
        "        print(f\"{indent}✓ Found as fact.\")\n",
        "        return True\n",
        "    if goal in knowledge_base:\n",
        "        for conditions in knowledge_base[goal]:\n",
        "            print(f\"{indent}Checking rule: {goal} ⟵ {conditions}\")\n",
        "            if all(backward_chaining(cond, depth+1) for cond in conditions):\n",
        "                print(f\"{indent}✓ All conditions met for {goal}\")\n",
        "                return True\n",
        "    print(f\"{indent}✗ Failed to prove: {goal}\")\n",
        "    return False\n"
      ]
    }
  ]
}